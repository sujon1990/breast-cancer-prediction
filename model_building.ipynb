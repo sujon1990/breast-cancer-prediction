{
 "cells": [
  {
   "cell_type": "markdown",
   "metadata": {
    "id": "Dj1mNwq1zxN6"
   },
   "source": [
    "# **import Libs**"
   ]
  },
  {
   "cell_type": "code",
   "execution_count": null,
   "metadata": {
    "id": "quyGAQ8SzMCP"
   },
   "outputs": [],
   "source": [
    "import numpy as np\n",
    "import pandas as pd\n",
    "import matplotlib.pyplot as plt\n",
    "from sklearn.decomposition import PCA\n",
    "from sklearn.model_selection import train_test_split\n",
    "from sklearn.preprocessing import StandardScaler\n",
    "from sklearn.svm import SVC\n",
    "from sklearn.neighbors import KNeighborsClassifier\n",
    "from sklearn.linear_model import LogisticRegression\n",
    "from sklearn.tree import DecisionTreeClassifier\n",
    "from sklearn.ensemble import RandomForestClassifier\n",
    "from sklearn.ensemble import ExtraTreesClassifier\n",
    "from sklearn.metrics import classification_report\n",
    "from sklearn.model_selection import cross_val_score\n",
    "from sklearn.model_selection import GridSearchCV"
   ]
  },
  {
   "cell_type": "code",
   "execution_count": null,
   "metadata": {},
   "outputs": [],
   "source": []
  },
  {
   "cell_type": "markdown",
   "metadata": {
    "id": "RZUhHBa4zm0M"
   },
   "source": [
    "## **Data Pre-processing**"
   ]
  },
  {
   "cell_type": "code",
   "execution_count": 62,
   "metadata": {
    "id": "MZRKZ-l_zmAi"
   },
   "outputs": [],
   "source": [
    "# Read dataset\n",
    "dataset = pd.read_csv('breastCancer.csv')"
   ]
  },
  {
   "cell_type": "code",
   "execution_count": 63,
   "metadata": {
    "colab": {
     "base_uri": "https://localhost:8080/",
     "height": 224
    },
    "id": "jZ8hkZj00dy9",
    "outputId": "039ad56d-4a43-47fc-d78a-75df6e70e6c0"
   },
   "outputs": [
    {
     "data": {
      "text/html": [
       "<div>\n",
       "<style scoped>\n",
       "    .dataframe tbody tr th:only-of-type {\n",
       "        vertical-align: middle;\n",
       "    }\n",
       "\n",
       "    .dataframe tbody tr th {\n",
       "        vertical-align: top;\n",
       "    }\n",
       "\n",
       "    .dataframe thead th {\n",
       "        text-align: right;\n",
       "    }\n",
       "</style>\n",
       "<table border=\"1\" class=\"dataframe\">\n",
       "  <thead>\n",
       "    <tr style=\"text-align: right;\">\n",
       "      <th></th>\n",
       "      <th>id</th>\n",
       "      <th>clump_thickness</th>\n",
       "      <th>size_uniformity</th>\n",
       "      <th>shape_uniformity</th>\n",
       "      <th>marginal_adhesion</th>\n",
       "      <th>epithelial_size</th>\n",
       "      <th>bare_nucleoli</th>\n",
       "      <th>bland_chromatin</th>\n",
       "      <th>normal_nucleoli</th>\n",
       "      <th>mitoses</th>\n",
       "      <th>class</th>\n",
       "    </tr>\n",
       "  </thead>\n",
       "  <tbody>\n",
       "    <tr>\n",
       "      <th>0</th>\n",
       "      <td>1000025</td>\n",
       "      <td>5</td>\n",
       "      <td>1</td>\n",
       "      <td>1</td>\n",
       "      <td>1</td>\n",
       "      <td>2</td>\n",
       "      <td>1</td>\n",
       "      <td>3</td>\n",
       "      <td>1</td>\n",
       "      <td>1</td>\n",
       "      <td>2</td>\n",
       "    </tr>\n",
       "    <tr>\n",
       "      <th>1</th>\n",
       "      <td>1002945</td>\n",
       "      <td>5</td>\n",
       "      <td>4</td>\n",
       "      <td>4</td>\n",
       "      <td>5</td>\n",
       "      <td>7</td>\n",
       "      <td>10</td>\n",
       "      <td>3</td>\n",
       "      <td>2</td>\n",
       "      <td>1</td>\n",
       "      <td>2</td>\n",
       "    </tr>\n",
       "    <tr>\n",
       "      <th>2</th>\n",
       "      <td>1015425</td>\n",
       "      <td>3</td>\n",
       "      <td>1</td>\n",
       "      <td>1</td>\n",
       "      <td>1</td>\n",
       "      <td>2</td>\n",
       "      <td>2</td>\n",
       "      <td>3</td>\n",
       "      <td>1</td>\n",
       "      <td>1</td>\n",
       "      <td>2</td>\n",
       "    </tr>\n",
       "    <tr>\n",
       "      <th>3</th>\n",
       "      <td>1016277</td>\n",
       "      <td>6</td>\n",
       "      <td>8</td>\n",
       "      <td>8</td>\n",
       "      <td>1</td>\n",
       "      <td>3</td>\n",
       "      <td>4</td>\n",
       "      <td>3</td>\n",
       "      <td>7</td>\n",
       "      <td>1</td>\n",
       "      <td>2</td>\n",
       "    </tr>\n",
       "    <tr>\n",
       "      <th>4</th>\n",
       "      <td>1017023</td>\n",
       "      <td>4</td>\n",
       "      <td>1</td>\n",
       "      <td>1</td>\n",
       "      <td>3</td>\n",
       "      <td>2</td>\n",
       "      <td>1</td>\n",
       "      <td>3</td>\n",
       "      <td>1</td>\n",
       "      <td>1</td>\n",
       "      <td>2</td>\n",
       "    </tr>\n",
       "  </tbody>\n",
       "</table>\n",
       "</div>"
      ],
      "text/plain": [
       "        id  clump_thickness  size_uniformity  ...  normal_nucleoli  mitoses  class\n",
       "0  1000025                5                1  ...                1        1      2\n",
       "1  1002945                5                4  ...                2        1      2\n",
       "2  1015425                3                1  ...                1        1      2\n",
       "3  1016277                6                8  ...                7        1      2\n",
       "4  1017023                4                1  ...                1        1      2\n",
       "\n",
       "[5 rows x 11 columns]"
      ]
     },
     "execution_count": 63,
     "metadata": {
      "tags": []
     },
     "output_type": "execute_result"
    }
   ],
   "source": [
    "# Show top 5 rows\n",
    "dataset.head()"
   ]
  },
  {
   "cell_type": "code",
   "execution_count": 64,
   "metadata": {
    "id": "CJezt6uK02C-"
   },
   "outputs": [],
   "source": [
    "# Replace '?' sysmbol with nan\n",
    "dataset = dataset.replace('?',np.nan)\n",
    "\n",
    "# Fill missing values\n",
    "dataset = dataset.fillna(dataset.median())\n",
    "\n",
    "# Update bare_nucleoli as integer\n",
    "dataset['bare_nucleoli'] = dataset['bare_nucleoli'].astype('int64')\n",
    "\n",
    "# Drop id column\n",
    "dataset.drop('id',axis=1,inplace=True)"
   ]
  },
  {
   "cell_type": "code",
   "execution_count": 65,
   "metadata": {
    "id": "EZEjjMyJ0iks"
   },
   "outputs": [],
   "source": [
    "# Divide into X and y\n",
    "X = dataset.drop('class',axis=1)\n",
    "y = dataset['class']\n",
    "\n",
    "# Perform Scaling\n",
    "sc_x = StandardScaler()\n",
    "X = sc_x.fit_transform(X)\n",
    "\n",
    "# Split into train and test\n",
    "X_train,X_test,y_train,y_test = train_test_split(X,y,test_size=0.30,random_state=1)\n"
   ]
  },
  {
   "cell_type": "markdown",
   "metadata": {
    "id": "p9nuYkRG3KiO"
   },
   "source": [
    "## **Apply PCA**"
   ]
  },
  {
   "cell_type": "code",
   "execution_count": 66,
   "metadata": {
    "colab": {
     "base_uri": "https://localhost:8080/",
     "height": 636
    },
    "id": "_-KC73S91IHc",
    "outputId": "ff3c8d96-f144-4aa1-e53f-0902464bcfbb"
   },
   "outputs": [
    {
     "data": {
      "image/png": "[encoded data removed]",
      "text/plain": [
       "<Figure size 504x720 with 1 Axes>"
      ]
     },
     "metadata": {
      "needs_background": "light",
      "tags": []
     },
     "output_type": "display_data"
    }
   ],
   "source": [
    "# Perform PCA\n",
    "pca = PCA()\n",
    "pca.fit(X_train)\n",
    "pca_variance_ratio = pca.explained_variance_ratio_\n",
    "pca_components = np.arange(len(pca_variance_ratio)) + 1\n",
    "\n",
    "cumsum_pca_variance_ratio = np.cumsum((pca_variance_ratio))\n",
    "plt.figure(figsize=(7, 10))\n",
    "plt.bar(pca_components, cumsum_pca_variance_ratio)\n",
    "plt.plot(pca_components, cumsum_pca_variance_ratio, \"ro-\")\n",
    "plt.xticks(pca_components, [\"Comp.\" + str(i) for i in pca_components], rotation=90)\n",
    "plt.title(\"Cumulative Variance\")\n",
    "plt.ylabel(\"Variance\")\n",
    "plt.show()"
   ]
  },
  {
   "cell_type": "code",
   "execution_count": 67,
   "metadata": {
    "id": "R9Uqf2JD3DQZ"
   },
   "outputs": [],
   "source": [
    "# Select importatnt features\n",
    "pca = PCA(n_components=5)\n",
    "pca.fit(X_train)\n",
    "X_train = pca.transform(X_train)\n",
    "X_test = pca.transform(X_test)"
   ]
  },
  {
   "cell_type": "markdown",
   "metadata": {
    "id": "QZHxJ_xA4jnw"
   },
   "source": [
    "## **Fuction for Hyperparameter tuning**"
   ]
  },
  {
   "cell_type": "code",
   "execution_count": 68,
   "metadata": {
    "id": "tZMFHXX-4UXo"
   },
   "outputs": [],
   "source": [
    "def hyper_parameter_tuning(estimator_name, estimator, parameters):\n",
    "    grid = GridSearchCV(estimator, parameters)\n",
    "    grid.fit(X_train, y_train)\n",
    "    print('***************************** Best Parameters ****************************')\n",
    "    print(grid.best_params_)\n",
    "    print('***************************** Best Estimator *****************************')\n",
    "    print(grid.best_estimator_)\n",
    "    params = pd.DataFrame(grid.cv_results_['params'])\n",
    "    score = pd.DataFrame(grid.cv_results_['mean_test_score'], columns=['score'])\n",
    "    print('************************** Score and parameters ***************************')\n",
    "    params_and_scores = pd.concat([params, score], axis=1)\n",
    "    params_and_scores.to_csv(f'{estimator_name}.csv', index=False)\n",
    "    print(params_and_scores)\n",
    "\n",
    "    return grid"
   ]
  },
  {
   "cell_type": "markdown",
   "metadata": {
    "id": "qy5euG1O41JA"
   },
   "source": [
    "## **Fuction for model creation**"
   ]
  },
  {
   "cell_type": "code",
   "execution_count": 69,
   "metadata": {
    "id": "4_KH-V_d4zDW"
   },
   "outputs": [],
   "source": [
    "def model_creation(model, X_train, X_test, y_train, y_test, cv=10):\n",
    "    model.fit(X_train, y_train)\n",
    "    predicted = model.predict(X_test)\n",
    "    report = classification_report(y_test, predicted)\n",
    "    print('>>>>>>>>>>>>>>>>>>>>>>>>>>> Classificatio Report >>>>>>>>>>>>>>>>>>>>>>>>>>>')\n",
    "    print(report)\n",
    "    print('========================== Cross validation score ===========================')\n",
    "    print(np.mean(cross_val_score(model, X_train, y_train, cv=cv)))"
   ]
  },
  {
   "cell_type": "markdown",
   "metadata": {
    "id": "LQ0Ui98y5ED_"
   },
   "source": [
    "## **Support vector machine**"
   ]
  },
  {
   "cell_type": "code",
   "execution_count": 55,
   "metadata": {
    "colab": {
     "base_uri": "https://localhost:8080/",
     "height": 442
    },
    "id": "dX1tEMG75MyC",
    "outputId": "6b7814d9-a360-42f7-d949-6fed9bee1043"
   },
   "outputs": [
    {
     "name": "stdout",
     "output_type": "stream",
     "text": [
      "***************************** Best Parameters ****************************\n",
      "{'kernel': 'rbf'}\n",
      "***************************** Best Estimator *****************************\n",
      "SVC(C=1.0, break_ties=False, cache_size=200, class_weight=None, coef0=0.0,\n",
      "    decision_function_shape='ovr', degree=3, gamma='scale', kernel='rbf',\n",
      "    max_iter=-1, probability=False, random_state=None, shrinking=True,\n",
      "    tol=0.001, verbose=False)\n",
      "************************** Score and parameters ***************************\n",
      "    kernel     score\n",
      "0   linear  0.956996\n",
      "1     poly  0.938523\n",
      "2  sigmoid  0.957038\n",
      "3      rbf  0.961119\n",
      ">>>>>>>>>>>>>>>>>>>>>>>>>>> Classificatio Report >>>>>>>>>>>>>>>>>>>>>>>>>>>\n",
      "              precision    recall  f1-score   support\n",
      "\n",
      "           2       0.99      0.99      0.99       137\n",
      "           4       0.97      0.97      0.97        73\n",
      "\n",
      "    accuracy                           0.98       210\n",
      "   macro avg       0.98      0.98      0.98       210\n",
      "weighted avg       0.98      0.98      0.98       210\n",
      "\n",
      "========================== Cross validation score ===========================\n",
      "0.9590561224489795\n"
     ]
    }
   ],
   "source": [
    "svc_parameters = {'kernel': ['linear', 'poly', 'sigmoid', 'rbf']}\n",
    "svc = SVC()\n",
    "svc_hyper_parameter_tuning = hyper_parameter_tuning('Support vector machine', svc, svc_parameters)\n",
    "svc = svc_hyper_parameter_tuning.best_estimator_\n",
    "model_creation(svc, X_train, X_test, y_train, y_test)"
   ]
  },
  {
   "cell_type": "markdown",
   "metadata": {
    "id": "o8bQCi4A7tVr"
   },
   "source": [
    "##**k-nearest neighbors**"
   ]
  },
  {
   "cell_type": "code",
   "execution_count": 56,
   "metadata": {
    "colab": {
     "base_uri": "https://localhost:8080/",
     "height": 612
    },
    "id": "IieW43CA78xZ",
    "outputId": "0971afd4-339e-4b50-c4c7-928b05ddad6b"
   },
   "outputs": [
    {
     "name": "stdout",
     "output_type": "stream",
     "text": [
      "***************************** Best Parameters ****************************\n",
      "{'metric': 'manhattan', 'n_neighbors': 20}\n",
      "***************************** Best Estimator *****************************\n",
      "KNeighborsClassifier(algorithm='auto', leaf_size=30, metric='manhattan',\n",
      "                     metric_params=None, n_jobs=None, n_neighbors=20, p=2,\n",
      "                     weights='uniform')\n",
      "************************** Score and parameters ***************************\n",
      "       metric  n_neighbors     score\n",
      "0   minkowski            5  0.952872\n",
      "1   minkowski           10  0.959036\n",
      "2   minkowski           20  0.963160\n",
      "3   minkowski           40  0.963160\n",
      "4   minkowski           80  0.954955\n",
      "5   euclidean            5  0.952872\n",
      "6   euclidean           10  0.959036\n",
      "7   euclidean           20  0.963160\n",
      "8   euclidean           40  0.963160\n",
      "9   euclidean           80  0.954955\n",
      "10  manhattan            5  0.954913\n",
      "11  manhattan           10  0.959015\n",
      "12  manhattan           20  0.965180\n",
      "13  manhattan           40  0.961077\n",
      "14  manhattan           80  0.948790\n",
      ">>>>>>>>>>>>>>>>>>>>>>>>>>> Classificatio Report >>>>>>>>>>>>>>>>>>>>>>>>>>>\n",
      "              precision    recall  f1-score   support\n",
      "\n",
      "           2       0.97      0.99      0.98       137\n",
      "           4       0.97      0.95      0.96        73\n",
      "\n",
      "    accuracy                           0.97       210\n",
      "   macro avg       0.97      0.97      0.97       210\n",
      "weighted avg       0.97      0.97      0.97       210\n",
      "\n",
      "========================== Cross validation score ===========================\n",
      "0.9652210884353742\n"
     ]
    }
   ],
   "source": [
    "knn_parameters = {'n_neighbors': [5, 10, 20, 40, 80],\n",
    "                  'metric':['minkowski', 'euclidean', 'manhattan']}\n",
    "knn = KNeighborsClassifier()\n",
    "knn_hyper_parameter_tuning = hyper_parameter_tuning('k-nearest neighbors',knn, knn_parameters)\n",
    "knn = knn_hyper_parameter_tuning.best_estimator_\n",
    "model_creation(knn, X_train, X_test, y_train, y_test)"
   ]
  },
  {
   "cell_type": "markdown",
   "metadata": {
    "id": "Wc_-zWPI8DSa"
   },
   "source": [
    "##**Logistic Regression**"
   ]
  },
  {
   "cell_type": "code",
   "execution_count": 57,
   "metadata": {
    "colab": {
     "base_uri": "https://localhost:8080/",
     "height": 425
    },
    "id": "RrWQqyjZ8GhQ",
    "outputId": "235c2ae1-6bde-4c35-871e-53df85ca76c9"
   },
   "outputs": [
    {
     "name": "stdout",
     "output_type": "stream",
     "text": [
      "***************************** Best Parameters ****************************\n",
      "{'penalty': 'l2'}\n",
      "***************************** Best Estimator *****************************\n",
      "LogisticRegression(C=1.0, class_weight=None, dual=False, fit_intercept=True,\n",
      "                   intercept_scaling=1, l1_ratio=None, max_iter=100,\n",
      "                   multi_class='auto', n_jobs=None, penalty='l2',\n",
      "                   random_state=None, solver='lbfgs', tol=0.0001, verbose=0,\n",
      "                   warm_start=False)\n",
      "************************** Score and parameters ***************************\n",
      "  penalty     score\n",
      "0      l2  0.959036\n",
      "1    none  0.956975\n",
      ">>>>>>>>>>>>>>>>>>>>>>>>>>> Classificatio Report >>>>>>>>>>>>>>>>>>>>>>>>>>>\n",
      "              precision    recall  f1-score   support\n",
      "\n",
      "           2       0.98      0.99      0.99       137\n",
      "           4       0.99      0.96      0.97        73\n",
      "\n",
      "    accuracy                           0.98       210\n",
      "   macro avg       0.98      0.98      0.98       210\n",
      "weighted avg       0.98      0.98      0.98       210\n",
      "\n",
      "========================== Cross validation score ===========================\n",
      "0.9590986394557823\n"
     ]
    }
   ],
   "source": [
    "logistic_parameters = {'penalty':['l2', 'none']}\n",
    "logistic = LogisticRegression()\n",
    "logistic_hyper_parameter_tuning = hyper_parameter_tuning('Logistic Regression',logistic, logistic_parameters)\n",
    "logistic = logistic_hyper_parameter_tuning.best_estimator_\n",
    "model_creation(logistic, X_train, X_test, y_train, y_test)"
   ]
  },
  {
   "cell_type": "markdown",
   "metadata": {
    "id": "l2IxrAxt8RoR"
   },
   "source": [
    "##**Decision Tree**"
   ]
  },
  {
   "cell_type": "code",
   "execution_count": 58,
   "metadata": {
    "colab": {
     "base_uri": "https://localhost:8080/",
     "height": 629
    },
    "id": "dKXxYx6O8ZJK",
    "outputId": "0bfeae69-2c5d-4c2d-a989-0d4fcd200b93"
   },
   "outputs": [
    {
     "name": "stdout",
     "output_type": "stream",
     "text": [
      "***************************** Best Parameters ****************************\n",
      "{'criterion': 'entropy', 'max_depth': 5, 'max_features': 'log2', 'min_samples_leaf': 3, 'min_samples_split': 4}\n",
      "***************************** Best Estimator *****************************\n",
      "DecisionTreeClassifier(ccp_alpha=0.0, class_weight=None, criterion='entropy',\n",
      "                       max_depth=5, max_features='log2', max_leaf_nodes=None,\n",
      "                       min_impurity_decrease=0.0, min_impurity_split=None,\n",
      "                       min_samples_leaf=3, min_samples_split=4,\n",
      "                       min_weight_fraction_leaf=0.0, presort='deprecated',\n",
      "                       random_state=None, splitter='best')\n",
      "************************** Score and parameters ***************************\n",
      "    criterion  max_depth  ... min_samples_split     score\n",
      "0        gini        NaN  ...                 2  0.952977\n",
      "1        gini        NaN  ...                 3  0.930465\n",
      "2        gini        NaN  ...                 4  0.938607\n",
      "3        gini        NaN  ...                 2  0.928403\n",
      "4        gini        NaN  ...                 3  0.922260\n",
      "..        ...        ...  ...               ...       ...\n",
      "355   entropy       40.0  ...                 3  0.946834\n",
      "356   entropy       40.0  ...                 4  0.948853\n",
      "357   entropy       40.0  ...                 2  0.934526\n",
      "358   entropy       40.0  ...                 3  0.938565\n",
      "359   entropy       40.0  ...                 4  0.938565\n",
      "\n",
      "[360 rows x 6 columns]\n",
      ">>>>>>>>>>>>>>>>>>>>>>>>>>> Classificatio Report >>>>>>>>>>>>>>>>>>>>>>>>>>>\n",
      "              precision    recall  f1-score   support\n",
      "\n",
      "           2       1.00      0.98      0.99       137\n",
      "           4       0.96      1.00      0.98        73\n",
      "\n",
      "    accuracy                           0.99       210\n",
      "   macro avg       0.98      0.99      0.98       210\n",
      "weighted avg       0.99      0.99      0.99       210\n",
      "\n",
      "========================== Cross validation score ===========================\n",
      "0.9528061224489797\n"
     ]
    }
   ],
   "source": [
    "decision_tree_parameters = {'criterion':['gini', 'entropy'],\n",
    "                            'max_depth':[None, 5, 10, 20, 40],\n",
    "                            'min_samples_split':[i for i in range(2, 5)],\n",
    "                            'min_samples_leaf':[i for i in range(1, 5)],\n",
    "                            'max_features':['auto', 'sqrt', 'log2']\n",
    "                            }\n",
    "decision_tree = DecisionTreeClassifier()\n",
    "decision_tree_hyper_parameter_tuning = hyper_parameter_tuning('Decision Tree',decision_tree, decision_tree_parameters)\n",
    "decision_tree = decision_tree_hyper_parameter_tuning.best_estimator_\n",
    "model_creation(decision_tree, X_train, X_test, y_train, y_test)"
   ]
  },
  {
   "cell_type": "markdown",
   "metadata": {
    "id": "SUcZszve8dmw"
   },
   "source": [
    "##**Random Forest**"
   ]
  },
  {
   "cell_type": "code",
   "execution_count": 59,
   "metadata": {
    "colab": {
     "base_uri": "https://localhost:8080/",
     "height": 683
    },
    "id": "W4-c1rFs8hes",
    "outputId": "3c8f7e5d-d352-4b37-e1b8-37882295e2b2",
    "scrolled": true
   },
   "outputs": [
    {
     "name": "stdout",
     "output_type": "stream",
     "text": [
      "***************************** Best Parameters ****************************\n",
      "{'bootstrap': True, 'criterion': 'gini', 'max_depth': 10, 'max_features': 'sqrt', 'min_samples_leaf': 4, 'min_samples_split': 2, 'n_estimators': 10}\n",
      "***************************** Best Estimator *****************************\n",
      "RandomForestClassifier(bootstrap=True, ccp_alpha=0.0, class_weight=None,\n",
      "                       criterion='gini', max_depth=10, max_features='sqrt',\n",
      "                       max_leaf_nodes=None, max_samples=None,\n",
      "                       min_impurity_decrease=0.0, min_impurity_split=None,\n",
      "                       min_samples_leaf=4, min_samples_split=2,\n",
      "                       min_weight_fraction_leaf=0.0, n_estimators=10,\n",
      "                       n_jobs=None, oob_score=False, random_state=None,\n",
      "                       verbose=0, warm_start=False)\n",
      "************************** Score and parameters ***************************\n",
      "      bootstrap criterion  max_depth  ... min_samples_split  n_estimators     score\n",
      "0          True      gini        NaN  ...                 2            10  0.961098\n",
      "1          True      gini        NaN  ...                 2            50  0.963160\n",
      "2          True      gini        NaN  ...                 2           100  0.961098\n",
      "3          True      gini        NaN  ...                 2           200  0.961098\n",
      "4          True      gini        NaN  ...                 2           400  0.963160\n",
      "...         ...       ...        ...  ...               ...           ...       ...\n",
      "4315      False   entropy       40.0  ...                 4            50  0.965222\n",
      "4316      False   entropy       40.0  ...                 4           100  0.963160\n",
      "4317      False   entropy       40.0  ...                 4           200  0.961098\n",
      "4318      False   entropy       40.0  ...                 4           400  0.963160\n",
      "4319      False   entropy       40.0  ...                 4           600  0.963160\n",
      "\n",
      "[4320 rows x 8 columns]\n",
      ">>>>>>>>>>>>>>>>>>>>>>>>>>> Classificatio Report >>>>>>>>>>>>>>>>>>>>>>>>>>>\n",
      "              precision    recall  f1-score   support\n",
      "\n",
      "           2       1.00      0.98      0.99       137\n",
      "           4       0.96      1.00      0.98        73\n",
      "\n",
      "    accuracy                           0.99       210\n",
      "   macro avg       0.98      0.99      0.98       210\n",
      "weighted avg       0.99      0.99      0.99       210\n",
      "\n",
      "========================== Cross validation score ===========================\n",
      "0.9631802721088436\n"
     ]
    }
   ],
   "source": [
    "random_forest_parameters = {'criterion':['gini', 'entropy'],\n",
    "                            'n_estimators':[10, 50, 100, 200, 400, 600],\n",
    "                            'max_depth':[None, 5, 10, 20, 40],\n",
    "                            'min_samples_split':[i for i in range(2, 5)],\n",
    "                            'min_samples_leaf':[i for i in range(1, 5)],\n",
    "                            'max_features':['auto', 'sqrt', 'log2'],\n",
    "                            'bootstrap': [True, False]\n",
    "                            }\n",
    "random_forest = RandomForestClassifier()\n",
    "random_forest_hyper_parameter_tuning = hyper_parameter_tuning('Random Fores',random_forest, random_forest_parameters)\n",
    "random_forest = random_forest_hyper_parameter_tuning.best_estimator_\n",
    "model_creation(random_forest, X_train, X_test, y_train, y_test)"
   ]
  },
  {
   "cell_type": "markdown",
   "metadata": {
    "id": "NmqEhfHL8lr3"
   },
   "source": [
    "##**Extra Trees**"
   ]
  },
  {
   "cell_type": "code",
   "execution_count": 70,
   "metadata": {
    "colab": {
     "base_uri": "https://localhost:8080/",
     "height": 683
    },
    "id": "Khxs3kEh8rmY",
    "outputId": "66faf89e-42dd-4ff9-bee9-52f5c43bf7bc"
   },
   "outputs": [
    {
     "name": "stdout",
     "output_type": "stream",
     "text": [
      "***************************** Best Parameters ****************************\n",
      "{'bootstrap': True, 'criterion': 'entropy', 'max_depth': 40, 'max_features': 'sqrt', 'min_samples_leaf': 2, 'min_samples_split': 2, 'n_estimators': 10}\n",
      "***************************** Best Estimator *****************************\n",
      "ExtraTreesClassifier(bootstrap=True, ccp_alpha=0.0, class_weight=None,\n",
      "                     criterion='entropy', max_depth=40, max_features='sqrt',\n",
      "                     max_leaf_nodes=None, max_samples=None,\n",
      "                     min_impurity_decrease=0.0, min_impurity_split=None,\n",
      "                     min_samples_leaf=2, min_samples_split=2,\n",
      "                     min_weight_fraction_leaf=0.0, n_estimators=10, n_jobs=None,\n",
      "                     oob_score=False, random_state=None, verbose=0,\n",
      "                     warm_start=False)\n",
      "************************** Score and parameters ***************************\n",
      "      bootstrap criterion  max_depth  ... min_samples_split  n_estimators     score\n",
      "0          True      gini        NaN  ...                 2            10  0.950852\n",
      "1          True      gini        NaN  ...                 2            50  0.961098\n",
      "2          True      gini        NaN  ...                 2           100  0.957038\n",
      "3          True      gini        NaN  ...                 2           200  0.959078\n",
      "4          True      gini        NaN  ...                 2           400  0.959057\n",
      "...         ...       ...        ...  ...               ...           ...       ...\n",
      "4315      False   entropy       40.0  ...                 4            50  0.967263\n",
      "4316      False   entropy       40.0  ...                 4           100  0.965222\n",
      "4317      False   entropy       40.0  ...                 4           200  0.965222\n",
      "4318      False   entropy       40.0  ...                 4           400  0.965222\n",
      "4319      False   entropy       40.0  ...                 4           600  0.965222\n",
      "\n",
      "[4320 rows x 8 columns]\n",
      ">>>>>>>>>>>>>>>>>>>>>>>>>>> Classificatio Report >>>>>>>>>>>>>>>>>>>>>>>>>>>\n",
      "              precision    recall  f1-score   support\n",
      "\n",
      "           2       0.99      0.98      0.98       137\n",
      "           4       0.96      0.97      0.97        73\n",
      "\n",
      "    accuracy                           0.98       210\n",
      "   macro avg       0.97      0.98      0.97       210\n",
      "weighted avg       0.98      0.98      0.98       210\n",
      "\n",
      "========================== Cross validation score ===========================\n",
      "0.9631377551020408\n"
     ]
    }
   ],
   "source": [
    "extra_tree_parameters = {'criterion':['gini', 'entropy'],\n",
    "                            'n_estimators':[10, 50, 100, 200, 400, 600],\n",
    "                            'max_depth':[None, 5, 10, 20, 40],\n",
    "                            'min_samples_split':[i for i in range(2, 5)],\n",
    "                            'min_samples_leaf':[i for i in range(1, 5)],\n",
    "                            'max_features':['auto', 'sqrt', 'log2'],\n",
    "                            'bootstrap': [True, False]\n",
    "                            }\n",
    "extra_tree = ExtraTreesClassifier()\n",
    "extra_tree_hyper_parameter_tuning = hyper_parameter_tuning('Extra Trees',extra_tree, extra_tree_parameters)\n",
    "extra_tree = extra_tree_hyper_parameter_tuning.best_estimator_\n",
    "model_creation(extra_tree, X_train, X_test, y_train, y_test)"
   ]
  }
 ],
 "metadata": {
  "accelerator": "GPU",
  "colab": {
   "collapsed_sections": [],
   "name": "breast cancer.ipynb",
   "provenance": []
  },
  "kernelspec": {
   "display_name": "Python 3",
   "language": "python",
   "name": "python3"
  },
  "language_info": {
   "codemirror_mode": {
    "name": "ipython",
    "version": 3
   },
   "file_extension": ".py",
   "mimetype": "text/x-python",
   "name": "python",
   "nbconvert_exporter": "python",
   "pygments_lexer": "ipython3",
   "version": "3.8.3"
  }
 },
 "nbformat": 4,
 "nbformat_minor": 1
}
